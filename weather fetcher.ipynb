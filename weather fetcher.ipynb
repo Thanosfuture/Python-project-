{
 "cells": [
  {
   "cell_type": "code",
   "execution_count": null,
   "id": "9d0c5d71",
   "metadata": {},
   "outputs": [],
   "source": []
  },
  {
   "cell_type": "code",
   "execution_count": 20,
   "id": "385e7f2d",
   "metadata": {},
   "outputs": [
    {
     "name": "stdout",
     "output_type": "stream",
     "text": [
      "Enter a city nameboston\n",
      "weather broken clouds\n",
      "temperature : 22.28 celsius\n"
     ]
    }
   ],
   "source": [
    "import requests\n",
    "\n",
    "API_KEY = \"f49333235022f117443717201d55ff1d93\"\n",
    "BASE_URL = \"https://api.openweathermap.org/data/2.5/weather\"\n",
    "city = input(\"Enter a city name\")\n",
    "request_url = f\"{BASE_URL}?appid={API_KEY}&q={city}\"\n",
    "response = requests.get(request_url)\n",
    "\n",
    "if response.status_code ==200:\n",
    "    data = response.json()\n",
    "    weather = data [\"weather\"][0][\"description\"]\n",
    "    \n",
    "    temperature = round(data[\"main\"][\"temp\"]-273,2)\n",
    "    print(\"weather\",weather)\n",
    "    print(\"temperature :\", temperature, \"celsius\")\n",
    "    \n",
    "else:\n",
    "    print(\"error occured\")"
   ]
  },
  {
   "cell_type": "code",
   "execution_count": null,
   "id": "024d9c65",
   "metadata": {},
   "outputs": [],
   "source": []
  }
 ],
 "metadata": {
  "kernelspec": {
   "display_name": "Python 3 (ipykernel)",
   "language": "python",
   "name": "python3"
  },
  "language_info": {
   "codemirror_mode": {
    "name": "ipython",
    "version": 3
   },
   "file_extension": ".py",
   "mimetype": "text/x-python",
   "name": "python",
   "nbconvert_exporter": "python",
   "pygments_lexer": "ipython3",
   "version": "3.9.2"
  }
 },
 "nbformat": 4,
 "nbformat_minor": 5
}
